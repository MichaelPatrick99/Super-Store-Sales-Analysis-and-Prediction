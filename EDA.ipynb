{
 "cells": [
  {
   "cell_type": "markdown",
   "metadata": {},
   "source": [
    "### Super Store Sales Analysis and Profit Return Prediction"
   ]
  },
  {
   "cell_type": "code",
   "execution_count": null,
   "metadata": {},
   "outputs": [],
   "source": [
    "from IPython.display import Image\n",
    "from IPython.core.display import HTML \n",
    "Image(url= \"https://images.unsplash.com/photo-1630342654882-aed9e2e86f24?q=80&w=1974&auto=format&fit=crop&ixlib=rb-4.0.3&ixid=M3wxMjA3fDB8MHxwaG90by1wYWdlfHx8fGVufDB8fHx8fA%3D%3D\", width=1300, height=500)"
   ]
  },
  {
   "cell_type": "markdown",
   "metadata": {},
   "source": [
    "### Introduction"
   ]
  },
  {
   "cell_type": "markdown",
   "metadata": {},
   "source": [
    "This Project looks to explore a dataset containing information on a small retail business\n",
    "\n",
    "Objectives include:\n",
    "\n",
    "1. Analyse the sales data and pinpoint areas and opportunities for the business to experience a growth boost.\n",
    "\n",
    "    This would be done by providing insights and answers to particular business questions tailored to the data on board.\n",
    "\n",
    "        1.  Best Selling Category\n",
    "        2.  Most Profitable Category\n",
    "        3.  Best Selling Sub-Category\n",
    "        4.  Most Profitable Sub-Category\n",
    "        5.  Most Profitable Regions and Cities\n",
    "        6.  Overall Sales (Over The Years)\n",
    "        7.  Most Selling and Profitable Products\n",
    "\n",
    "2. Next, We will carry out some machine learning on the dataset, in an attempt to predict profit returns based of information available in a record.\n",
    "\n",
    "    Model would be a regression model but would return a final output of either \"Green\" or \"Red\".\n",
    "    \n",
    "        \"Green\" being that the model predicts a profit return of 15% or above.\n",
    "        \"Red\" being that the model predicts a profit return less than 15%. "
   ]
  },
  {
   "cell_type": "markdown",
   "metadata": {},
   "source": [
    "### Environment Preparation"
   ]
  },
  {
   "cell_type": "code",
   "execution_count": null,
   "metadata": {},
   "outputs": [],
   "source": [
    "# Importing libraries\n",
    "# Importing alias for easy reading\n",
    "\n",
    "import pandas as pd\n",
    "import matplotlib.pyplot as plt\n",
    "import seaborn as sns\n",
    "import missingno as msno\n",
    "import warnings\n",
    "warnings.filterwarnings(\"ignore\")\n",
    "%matplotlib inline\n",
    "\n",
    "# Reading data from csv\n",
    "df = pd.read_csv('Sample - Superstore.csv')"
   ]
  },
  {
   "cell_type": "markdown",
   "metadata": {},
   "source": [
    "# Data Exploration"
   ]
  },
  {
   "cell_type": "code",
   "execution_count": null,
   "metadata": {},
   "outputs": [],
   "source": [
    "# Preview first 5 rows of data set\n",
    "df.head()"
   ]
  },
  {
   "cell_type": "code",
   "execution_count": null,
   "metadata": {},
   "outputs": [],
   "source": [
    "# Preview last 5 rows of data set\n",
    "df.tail()"
   ]
  },
  {
   "cell_type": "code",
   "execution_count": null,
   "metadata": {},
   "outputs": [],
   "source": [
    "df = df.drop(df.columns[:2], axis=1)\n",
    "\n",
    "df.shape"
   ]
  },
  {
   "cell_type": "code",
   "execution_count": null,
   "metadata": {},
   "outputs": [],
   "source": [
    "df.info()"
   ]
  },
  {
   "cell_type": "markdown",
   "metadata": {},
   "source": [
    "## Data Cleaning"
   ]
  },
  {
   "cell_type": "markdown",
   "metadata": {},
   "source": [
    "### First Stage - Handling Duplicate Records"
   ]
  },
  {
   "cell_type": "code",
   "execution_count": null,
   "metadata": {},
   "outputs": [],
   "source": [
    "# Find the number of duplicate data\n",
    "df.duplicated().sum()"
   ]
  },
  {
   "cell_type": "markdown",
   "metadata": {},
   "source": [
    "### Second Stage - Handling Missing Data"
   ]
  },
  {
   "cell_type": "code",
   "execution_count": null,
   "metadata": {},
   "outputs": [],
   "source": [
    "# To get the number of records with null values...\n",
    "\n",
    "df.isnull().sum()"
   ]
  },
  {
   "cell_type": "code",
   "execution_count": null,
   "metadata": {},
   "outputs": [],
   "source": [
    "# Visualizing the distribution of missing data\n",
    "msno.matrix(df)"
   ]
  },
  {
   "cell_type": "markdown",
   "metadata": {},
   "source": [
    "##### Mean Imputation For Numeric Features and (Most Frequent) Imputation for Categorical Features"
   ]
  },
  {
   "cell_type": "code",
   "execution_count": null,
   "metadata": {},
   "outputs": [],
   "source": [
    "# Identifing categorical and numeric columns\n",
    "categorical_cols = df.select_dtypes(include='object')\n",
    "numeric_cols = df.select_dtypes(include='number')\n",
    "\n",
    "# Imputing missing values for numeric columns with the mean\n",
    "df[numeric_cols.columns] = df[numeric_cols.columns].fillna(numeric_cols.mean())\n",
    "\n",
    "# Imputing missing values for categorical columns with the mode (most frequent value)\n",
    "for col in categorical_cols.columns:\n",
    "    mode_value = df[col].mode()[0]\n",
    "    df[col] = df[col].fillna(mode_value)"
   ]
  },
  {
   "cell_type": "code",
   "execution_count": null,
   "metadata": {},
   "outputs": [],
   "source": [
    "# Re-visualizing the distribution of missing data\n",
    "msno.matrix(df)"
   ]
  },
  {
   "cell_type": "code",
   "execution_count": null,
   "metadata": {},
   "outputs": [],
   "source": [
    "# To get the number of records with null values...\n",
    "\n",
    "df.isnull().sum()"
   ]
  },
  {
   "cell_type": "markdown",
   "metadata": {},
   "source": [
    "### Feature Engineering - Adding a Column for Profit Return Percentage"
   ]
  },
  {
   "cell_type": "code",
   "execution_count": null,
   "metadata": {},
   "outputs": [],
   "source": [
    "df ['Profit Percentage'] = (df.Profit / df.Sales) * 100\n",
    "df ['Cost Price'] = (df.Sales - df.Profit)\n",
    "\n",
    "df.head()"
   ]
  },
  {
   "cell_type": "markdown",
   "metadata": {},
   "source": [
    "### Descriptive Analysis"
   ]
  },
  {
   "cell_type": "code",
   "execution_count": null,
   "metadata": {},
   "outputs": [],
   "source": [
    "df.describe(include = \"all\")"
   ]
  },
  {
   "cell_type": "code",
   "execution_count": null,
   "metadata": {},
   "outputs": [],
   "source": [
    "# To read the data as a time series, we have to pass special arguments to the read_csv command:\n",
    "from datetime import datetime\n",
    "dateparse = lambda x: datetime.strptime(x, '%d/%m/%Y')"
   ]
  },
  {
   "cell_type": "code",
   "execution_count": null,
   "metadata": {},
   "outputs": [],
   "source": [
    "#Converting Order Date to Datetime\n",
    "df['Order Date']= pd.to_datetime(df['Order Date'])\n",
    "\n",
    "#Creating a Month Year Column\n",
    "df['Year Month'] = df['Order Date'].apply(lambda x: x.strftime('%Y-%m'))"
   ]
  },
  {
   "cell_type": "code",
   "execution_count": null,
   "metadata": {},
   "outputs": [],
   "source": [
    "sales_trend = pd.DataFrame(df.groupby('Year Month')['Sales'].sum().reset_index())\n",
    "sales_trend.head()"
   ]
  },
  {
   "cell_type": "code",
   "execution_count": null,
   "metadata": {},
   "outputs": [],
   "source": [
    "# Data\n",
    "x = sales_trend['Year Month']\n",
    "y = sales_trend['Sales']\n",
    "\n",
    "# Plotting\n",
    "plt.figure(figsize=(20, 5))\n",
    "plt.xticks(rotation='vertical', size=10)\n",
    "plt.plot(x, y, color='red')\n",
    "plt.fill_between(x, y, color='red', alpha=0.2)\n",
    "plt.title('SALES TREND (2014 - 2017)')\n",
    "plt.ylabel('Sales')\n",
    "plt.xlabel('Year Month')\n",
    "plt.show()"
   ]
  },
  {
   "cell_type": "markdown",
   "metadata": {},
   "source": [
    "### Discoveries"
   ]
  },
  {
   "cell_type": "markdown",
   "metadata": {},
   "source": []
  },
  {
   "cell_type": "markdown",
   "metadata": {},
   "source": [
    "### Exploratory Data Analysis"
   ]
  },
  {
   "cell_type": "markdown",
   "metadata": {},
   "source": [
    "Remember when we said we would provide insights and answers to certain business questions.\n",
    "\n",
    "First, We would explore the 'Categories'\n",
    "\n",
    "    1. Sales\n",
    "    2. Profit\n",
    "    3. Quantity"
   ]
  },
  {
   "cell_type": "code",
   "execution_count": null,
   "metadata": {},
   "outputs": [],
   "source": [
    "# Grouping Sales, Profit and Quantity by Category\n",
    "\n",
    "category_analysis = pd.DataFrame(df.groupby(['Category']) [['Sales', 'Profit', 'Quantity']].sum())\n",
    "\n",
    "category_analysis.head()"
   ]
  },
  {
   "cell_type": "markdown",
   "metadata": {},
   "source": [
    "##### We'd Get These on Graphs For easier Visualization"
   ]
  },
  {
   "cell_type": "code",
   "execution_count": null,
   "metadata": {},
   "outputs": [],
   "source": [
    "category_analysis.plot(kind='bar', subplots=True, layout=(1,3), figsize=(15,3))\n",
    "plt.show()"
   ]
  },
  {
   "cell_type": "markdown",
   "metadata": {},
   "source": [
    "### We would do the same for 'Sub Categories'"
   ]
  },
  {
   "cell_type": "code",
   "execution_count": null,
   "metadata": {},
   "outputs": [],
   "source": [
    "# Grouping Sales, Profit and Quantity by Sub-Sub_Category\n",
    "\n",
    "Sub_Category_analysis = pd.DataFrame(df.groupby(['Sub-Category']) [['Sales', 'Profit', 'Quantity']].sum())\n",
    "\n",
    "Sub_Category_analysis_Sales = Sub_Category_analysis.sort_values('Sales', ascending=False)\n",
    "\n",
    "Sub_Category_analysis_Sales.head(30)"
   ]
  },
  {
   "cell_type": "code",
   "execution_count": null,
   "metadata": {},
   "outputs": [],
   "source": [
    "Sales_SubCategory = pd.DataFrame(df.groupby(['Sub-Category']) [['Sales']].sum().sort_values('Sales', ascending=False))\n",
    "\n",
    "Sales_SubCategory.head()\n",
    "\n",
    "Sales_SubCategory.plot(kind='bar', subplots=True, figsize=(15,3), color=['green'])\n",
    "plt.show()"
   ]
  },
  {
   "cell_type": "code",
   "execution_count": null,
   "metadata": {},
   "outputs": [],
   "source": [
    "Profit_SubCategory = pd.DataFrame(df.groupby(['Sub-Category']) [['Profit']].sum().sort_values('Profit', ascending=False))\n",
    "\n",
    "Profit_SubCategory.head()\n",
    "\n",
    "Profit_SubCategory.plot(kind='bar', subplots=True, figsize=(15,3), color=['blue'])\n",
    "plt.show()"
   ]
  },
  {
   "cell_type": "code",
   "execution_count": null,
   "metadata": {},
   "outputs": [],
   "source": [
    "Quantity_SubCategory = pd.DataFrame(df.groupby(['Sub-Category']) [['Quantity']].sum().sort_values('Quantity', ascending=False))\n",
    "\n",
    "Quantity_SubCategory.head()\n",
    "\n",
    "Quantity_SubCategory.plot(kind='bar', subplots=True, figsize=(15,3), color=['brown'])\n",
    "plt.show()"
   ]
  },
  {
   "cell_type": "markdown",
   "metadata": {},
   "source": []
  },
  {
   "cell_type": "code",
   "execution_count": null,
   "metadata": {},
   "outputs": [],
   "source": [
    "# Grouping Sales, Profit and Quantity by Cities\n",
    "\n",
    "City_analysis = pd.DataFrame(df.groupby(['City']) [['Sales', 'Profit', 'Quantity']].sum().sort_values('Sales', ascending= False))\n",
    "\n",
    "Top_Cities = City_analysis[:10]\n",
    "Bottom_Cities = City_analysis.tail(10)\n",
    "\n",
    "Top_Cities.head()"
   ]
  },
  {
   "cell_type": "markdown",
   "metadata": {},
   "source": [
    "### Let's take a look at Cities with the Highest and lowest Sales, Profit, and Quantity Sold in"
   ]
  },
  {
   "cell_type": "markdown",
   "metadata": {},
   "source": [
    "### Top Cities"
   ]
  },
  {
   "cell_type": "code",
   "execution_count": null,
   "metadata": {},
   "outputs": [],
   "source": [
    "Top_Cities.plot(kind='bar', subplots=True, layout=(1,3), figsize=(15,3), color=['red', 'green', 'blue'])\n",
    "plt.show()"
   ]
  },
  {
   "cell_type": "markdown",
   "metadata": {},
   "source": [
    "### Bottom Cities"
   ]
  },
  {
   "cell_type": "code",
   "execution_count": null,
   "metadata": {},
   "outputs": [],
   "source": [
    "Bottom_Cities.plot(kind='bar', subplots=True, layout=(1,3), figsize=(15,3), color=['red', 'green', 'blue'])\n",
    "plt.show()"
   ]
  },
  {
   "cell_type": "code",
   "execution_count": null,
   "metadata": {},
   "outputs": [],
   "source": [
    "import matplotlib.pyplot as plt\n",
    "\n",
    "Cities = pd.concat([Top_Cities, Bottom_Cities])\n",
    "diff = Cities['Sales'] - Cities['Profit']\n",
    "colors = ['red' if x < 0 else 'green' for x in diff]\n",
    "\n",
    "ax = diff.plot(kind='barh', figsize=(10,6), color=colors)\n",
    "ax.set_xlabel('Difference')\n",
    "ax.set_ylabel('City')\n",
    "ax.set_title('Difference between Sales and Profit for Top and Bottom Cities')\n",
    "plt.show()\n"
   ]
  },
  {
   "cell_type": "code",
   "execution_count": null,
   "metadata": {},
   "outputs": [],
   "source": [
    "df.to_csv('data.csv', index=False)"
   ]
  }
 ],
 "metadata": {
  "kernelspec": {
   "display_name": "Python 3",
   "language": "python",
   "name": "python3"
  },
  "language_info": {
   "codemirror_mode": {
    "name": "ipython",
    "version": 3
   },
   "file_extension": ".py",
   "mimetype": "text/x-python",
   "name": "python",
   "nbconvert_exporter": "python",
   "pygments_lexer": "ipython3",
   "version": "3.11.5"
  }
 },
 "nbformat": 4,
 "nbformat_minor": 2
}
